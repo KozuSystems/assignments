{
 "cells": [
  {
   "cell_type": "markdown",
   "id": "129c9ef8-49a0-4a67-8d80-c54d5c925297",
   "metadata": {},
   "source": [
    "# Data Science Tools and Ecsystem"
   ]
  },
  {
   "cell_type": "markdown",
   "id": "a6e5b6d7-818c-45e1-bcb2-01ca962204da",
   "metadata": {},
   "source": [
    "In this notebook, Data Science Tools and Ecosystem are summarized."
   ]
  },
  {
   "cell_type": "markdown",
   "id": "b9628b2d-c1e7-40ac-a5a9-90c4e05bb51a",
   "metadata": {},
   "source": [
    "***Objectives:***"
   ]
  },
  {
   "cell_type": "markdown",
   "id": "823375d4-5057-472e-8a3f-ad782ee558bd",
   "metadata": {},
   "source": [
    "- Popular languages that Data Scientists use\n",
    "- Commonly used libraries used by Data Scienists\n",
    "- Data Science Tools"
   ]
  },
  {
   "cell_type": "markdown",
   "id": "758a3282-fda2-454a-8295-19d34a9ffd00",
   "metadata": {},
   "source": [
    "Some of the popular languages that Data Scientists use are:\n",
    "1. C\n",
    "2. C++\n",
    "3. Python\n",
    "4. R"
   ]
  },
  {
   "cell_type": "markdown",
   "id": "6ddc99e6-e81c-4fcc-bd60-f2862ea7d9da",
   "metadata": {},
   "source": [
    "Some of the commonly used libraries used by Data Scienists include:"
   ]
  },
  {
   "cell_type": "markdown",
   "id": "d475387c-58f7-4579-8430-054fbc1040d1",
   "metadata": {},
   "source": [
    "1. Pandas\n",
    "2. Numpy\n",
    "3. Matplotlib\n",
    "4. Seaborn"
   ]
  },
  {
   "cell_type": "markdown",
   "id": "ef8c78c6-4d3a-44e7-a43d-da129a13eb97",
   "metadata": {},
   "source": [
    "|Data Science Tools|\n",
    "|------------------|\n",
    "|VSCode|\n",
    "|RStudio|\n",
    "|MySQL|\n",
    "|mongDB|\n",
    "\n"
   ]
  },
  {
   "cell_type": "markdown",
   "id": "42f038c9-993c-4548-9144-5e5794289568",
   "metadata": {},
   "source": [
    "Below are a few examples of evaluating arithmetic expressions in Python"
   ]
  },
  {
   "cell_type": "markdown",
   "id": "1be990ec-e85f-4621-ad5e-01dd25908f2b",
   "metadata": {},
   "source": [
    "This a simple arithmetic expression to mutiply then add integers"
   ]
  },
  {
   "cell_type": "code",
   "execution_count": 1,
   "id": "e49a0054-737c-4016-bc61-567955edd056",
   "metadata": {},
   "outputs": [
    {
     "data": {
      "text/plain": [
       "17"
      ]
     },
     "execution_count": 1,
     "metadata": {},
     "output_type": "execute_result"
    }
   ],
   "source": [
    "(3*4)+5"
   ]
  },
  {
   "cell_type": "markdown",
   "id": "1e85d933-3c16-4a78-8f10-c578c14c36ae",
   "metadata": {},
   "source": [
    "This will convert 200 minutes to hours by diving by 60"
   ]
  },
  {
   "cell_type": "code",
   "execution_count": 2,
   "id": "dd9f35a8-971d-4c4b-abd5-c10b245957ad",
   "metadata": {},
   "outputs": [
    {
     "data": {
      "text/plain": [
       "3.3333333333333335"
      ]
     },
     "execution_count": 2,
     "metadata": {},
     "output_type": "execute_result"
    }
   ],
   "source": [
    "200/60"
   ]
  },
  {
   "cell_type": "markdown",
   "id": "36214197-72d6-42ac-9ee6-ca01c9c60abf",
   "metadata": {},
   "source": [
    "## Author\n",
    "Michael Ceresia"
   ]
  },
  {
   "cell_type": "code",
   "execution_count": null,
   "id": "70f84ef0-c254-4a1c-a5e2-5282ca263980",
   "metadata": {},
   "outputs": [],
   "source": []
  }
 ],
 "metadata": {
  "kernelspec": {
   "display_name": "Python 3 (ipykernel)",
   "language": "python",
   "name": "python3"
  },
  "language_info": {
   "codemirror_mode": {
    "name": "ipython",
    "version": 3
   },
   "file_extension": ".py",
   "mimetype": "text/x-python",
   "name": "python",
   "nbconvert_exporter": "python",
   "pygments_lexer": "ipython3",
   "version": "3.12.8"
  }
 },
 "nbformat": 4,
 "nbformat_minor": 5
}
